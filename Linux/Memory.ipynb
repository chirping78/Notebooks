{
 "cells": [
  {
   "cell_type": "markdown",
   "metadata": {},
   "source": [
    "three ways to map page frames in high memory:\n",
    "- permanent kernel mapping\n",
    "\n",
    "```C\n",
    "kmap_high()\n",
    "```\n",
    "- temporary kernel mapping\n",
    "\n",
    "```C\n",
    "kmap_atomic()\n",
    "\n",
    "enum fixed_addresses {\n",
    "        FIX_HOLE,\n",
    "        FIX_VSYSCALL,\n",
    "...\n",
    "#ifdef CONFIG_HIGHMEM\n",
    "        FIX_KMAP_BEGIN, /* reserved pte's for temporary kernel mappings */\n",
    "        FIX_KMAP_END = FIX_KMAP_BEGIN+(KM_TYPE_NR*NR_CPUS)-1,\n",
    "#endif\n",
    "...\n",
    "        __end_of_fixed_addresses\n",
    "};\n",
    "\n",
    "```\n",
    "- noncontiguous memory allocation\n",
    "\n",
    "```C\n",
    "vmalloc()\n",
    "```"
   ]
  },
  {
   "cell_type": "code",
   "execution_count": null,
   "metadata": {},
   "outputs": [],
   "source": []
  }
 ],
 "metadata": {
  "kernelspec": {
   "display_name": "Python 3",
   "language": "python",
   "name": "python3"
  },
  "language_info": {
   "codemirror_mode": {
    "name": "ipython",
    "version": 3
   },
   "file_extension": ".py",
   "mimetype": "text/x-python",
   "name": "python",
   "nbconvert_exporter": "python",
   "pygments_lexer": "ipython3",
   "version": "3.6.9"
  }
 },
 "nbformat": 4,
 "nbformat_minor": 2
}
